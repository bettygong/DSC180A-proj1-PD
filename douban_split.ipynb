{
 "cells": [
  {
   "cell_type": "code",
   "execution_count": 1,
   "metadata": {
    "pycharm": {
     "name": "#%%\n"
    }
   },
   "outputs": [],
   "source": [
    "import numpy as np\n",
    "import pandas as pd\n",
    "from matplotlib import pyplot as plt"
   ]
  },
  {
   "cell_type": "markdown",
   "metadata": {},
   "source": [
    "# Douban Movie Data Processing"
   ]
  },
  {
   "cell_type": "code",
   "execution_count": 2,
   "metadata": {
    "pycharm": {
     "name": "#%%\n"
    }
   },
   "outputs": [
    {
     "data": {
      "text/html": [
       "<div>\n",
       "<style scoped>\n",
       "    .dataframe tbody tr th:only-of-type {\n",
       "        vertical-align: middle;\n",
       "    }\n",
       "\n",
       "    .dataframe tbody tr th {\n",
       "        vertical-align: top;\n",
       "    }\n",
       "\n",
       "    .dataframe thead th {\n",
       "        text-align: right;\n",
       "    }\n",
       "</style>\n",
       "<table border=\"1\" class=\"dataframe\">\n",
       "  <thead>\n",
       "    <tr style=\"text-align: right;\">\n",
       "      <th></th>\n",
       "      <th>UserId</th>\n",
       "      <th>ItemId</th>\n",
       "      <th>Rating</th>\n",
       "      <th>Timestamp</th>\n",
       "    </tr>\n",
       "  </thead>\n",
       "  <tbody>\n",
       "    <tr>\n",
       "      <th>0</th>\n",
       "      <td>630157</td>\n",
       "      <td>0</td>\n",
       "      <td>5</td>\n",
       "      <td>1.182010e+09</td>\n",
       "    </tr>\n",
       "    <tr>\n",
       "      <th>1</th>\n",
       "      <td>630157</td>\n",
       "      <td>1</td>\n",
       "      <td>5</td>\n",
       "      <td>1.182010e+09</td>\n",
       "    </tr>\n",
       "  </tbody>\n",
       "</table>\n",
       "</div>"
      ],
      "text/plain": [
       "   UserId  ItemId  Rating     Timestamp\n",
       "0  630157       0       5  1.182010e+09\n",
       "1  630157       1       5  1.182010e+09"
      ]
     },
     "execution_count": 2,
     "metadata": {},
     "output_type": "execute_result"
    }
   ],
   "source": [
    "data_pd = pd.read_csv(\"douban_movie.tsv\",header=0,sep='\\t')\n",
    "data_pd.head(2)"
   ]
  },
  {
   "cell_type": "code",
   "execution_count": 3,
   "metadata": {},
   "outputs": [
    {
     "data": {
      "text/plain": [
       "(11742260, 4)"
      ]
     },
     "execution_count": 3,
     "metadata": {},
     "output_type": "execute_result"
    }
   ],
   "source": [
    "data_pd.shape"
   ]
  },
  {
   "cell_type": "code",
   "execution_count": 4,
   "metadata": {},
   "outputs": [
    {
     "data": {
      "text/plain": [
       "(2652182, 4)"
      ]
     },
     "execution_count": 4,
     "metadata": {},
     "output_type": "execute_result"
    }
   ],
   "source": [
    "data_pd[data_pd['Rating']==-1].shape # interact but not rate"
   ]
  },
  {
   "cell_type": "code",
   "execution_count": 5,
   "metadata": {},
   "outputs": [
    {
     "data": {
      "text/plain": [
       "<AxesSubplot:xlabel='UserId'>"
      ]
     },
     "execution_count": 5,
     "metadata": {},
     "output_type": "execute_result"
    },
    {
     "data": {
      "image/png": "[encoded data removed]",
      "text/plain": [
       "<Figure size 432x288 with 1 Axes>"
      ]
     },
     "metadata": {
      "needs_background": "light"
     },
     "output_type": "display_data"
    }
   ],
   "source": [
    "data_pd.groupby('UserId').count().plot() # rough frequencies of userid"
   ]
  },
  {
   "cell_type": "code",
   "execution_count": 6,
   "metadata": {
    "pycharm": {
     "name": "#%%\n"
    }
   },
   "outputs": [
    {
     "data": {
      "text/html": [
       "<div>\n",
       "<style scoped>\n",
       "    .dataframe tbody tr th:only-of-type {\n",
       "        vertical-align: middle;\n",
       "    }\n",
       "\n",
       "    .dataframe tbody tr th {\n",
       "        vertical-align: top;\n",
       "    }\n",
       "\n",
       "    .dataframe thead th {\n",
       "        text-align: right;\n",
       "    }\n",
       "</style>\n",
       "<table border=\"1\" class=\"dataframe\">\n",
       "  <thead>\n",
       "    <tr style=\"text-align: right;\">\n",
       "      <th></th>\n",
       "      <th>UserId</th>\n",
       "      <th>ItemId</th>\n",
       "      <th>Rating</th>\n",
       "      <th>Timestamp</th>\n",
       "      <th>date</th>\n",
       "    </tr>\n",
       "  </thead>\n",
       "  <tbody>\n",
       "    <tr>\n",
       "      <th>0</th>\n",
       "      <td>630157</td>\n",
       "      <td>0</td>\n",
       "      <td>5</td>\n",
       "      <td>1.182010e+09</td>\n",
       "      <td>2007-06-16 16:00:00</td>\n",
       "    </tr>\n",
       "    <tr>\n",
       "      <th>1</th>\n",
       "      <td>630157</td>\n",
       "      <td>1</td>\n",
       "      <td>5</td>\n",
       "      <td>1.182010e+09</td>\n",
       "      <td>2007-06-16 16:00:00</td>\n",
       "    </tr>\n",
       "  </tbody>\n",
       "</table>\n",
       "</div>"
      ],
      "text/plain": [
       "   UserId  ItemId  Rating     Timestamp                date\n",
       "0  630157       0       5  1.182010e+09 2007-06-16 16:00:00\n",
       "1  630157       1       5  1.182010e+09 2007-06-16 16:00:00"
      ]
     },
     "execution_count": 6,
     "metadata": {},
     "output_type": "execute_result"
    }
   ],
   "source": [
    "data_pd['date'] = pd.to_datetime(data_pd['Timestamp'],unit='s')\n",
    "data_pd.head(2)"
   ]
  },
  {
   "cell_type": "code",
   "execution_count": 7,
   "metadata": {
    "pycharm": {
     "name": "#%%\n"
    }
   },
   "outputs": [
    {
     "data": {
      "text/plain": [
       "Timestamp('2005-05-08 16:00:00')"
      ]
     },
     "execution_count": 7,
     "metadata": {},
     "output_type": "execute_result"
    }
   ],
   "source": [
    "data_pd['date'].min()"
   ]
  },
  {
   "cell_type": "code",
   "execution_count": 8,
   "metadata": {
    "pycharm": {
     "name": "#%%\n"
    }
   },
   "outputs": [
    {
     "data": {
      "text/plain": [
       "Timestamp('2017-03-17 16:00:00')"
      ]
     },
     "execution_count": 8,
     "metadata": {},
     "output_type": "execute_result"
    }
   ],
   "source": [
    "data_pd['date'].max()"
   ]
  },
  {
   "cell_type": "code",
   "execution_count": 9,
   "metadata": {
    "pycharm": {
     "name": "#%%\n"
    }
   },
   "outputs": [
    {
     "data": {
      "text/plain": [
       "(11742260, 5)"
      ]
     },
     "execution_count": 9,
     "metadata": {},
     "output_type": "execute_result"
    }
   ],
   "source": [
    "data_pd.shape"
   ]
  },
  {
   "cell_type": "code",
   "execution_count": 10,
   "metadata": {
    "pycharm": {
     "name": "#%%\n"
    }
   },
   "outputs": [
    {
     "data": {
      "text/plain": [
       "<AxesSubplot:xlabel='year'>"
      ]
     },
     "execution_count": 10,
     "metadata": {},
     "output_type": "execute_result"
    },
    {
     "data": {
      "image/png": "[encoded data removed]",
      "text/plain": [
       "<Figure size 432x288 with 1 Axes>"
      ]
     },
     "metadata": {
      "needs_background": "light"
     },
     "output_type": "display_data"
    }
   ],
   "source": [
    "data_pd['year'] = data_pd['date'].dt.year\n",
    "data_pd.groupby(['year']).agg({'Rating':'count'}).sort_values('year').plot(kind='bar')"
   ]
  },
  {
   "cell_type": "code",
   "execution_count": 11,
   "metadata": {
    "pycharm": {
     "name": "#%%\n"
    }
   },
   "outputs": [
    {
     "data": {
      "text/plain": [
       "(7601284, 6)"
      ]
     },
     "execution_count": 11,
     "metadata": {},
     "output_type": "execute_result"
    }
   ],
   "source": [
    "# take data after year 2010\n",
    "data_pd = data_pd[data_pd['year']>=2010]\n",
    "data_pd = data_pd.drop_duplicates(subset=['UserId','ItemId'],ignore_index=True)\n",
    "data_pd.shape"
   ]
  },
  {
   "cell_type": "code",
   "execution_count": 12,
   "metadata": {
    "pycharm": {
     "name": "#%%\n"
    }
   },
   "outputs": [
    {
     "data": {
      "text/html": [
       "<div>\n",
       "<style scoped>\n",
       "    .dataframe tbody tr th:only-of-type {\n",
       "        vertical-align: middle;\n",
       "    }\n",
       "\n",
       "    .dataframe tbody tr th {\n",
       "        vertical-align: top;\n",
       "    }\n",
       "\n",
       "    .dataframe thead th {\n",
       "        text-align: right;\n",
       "    }\n",
       "</style>\n",
       "<table border=\"1\" class=\"dataframe\">\n",
       "  <thead>\n",
       "    <tr style=\"text-align: right;\">\n",
       "      <th></th>\n",
       "      <th>ItemId</th>\n",
       "    </tr>\n",
       "    <tr>\n",
       "      <th>Rating</th>\n",
       "      <th></th>\n",
       "    </tr>\n",
       "  </thead>\n",
       "  <tbody>\n",
       "    <tr>\n",
       "      <th>-1</th>\n",
       "      <td>1447871</td>\n",
       "    </tr>\n",
       "    <tr>\n",
       "      <th>1</th>\n",
       "      <td>89091</td>\n",
       "    </tr>\n",
       "    <tr>\n",
       "      <th>2</th>\n",
       "      <td>245356</td>\n",
       "    </tr>\n",
       "    <tr>\n",
       "      <th>3</th>\n",
       "      <td>1420150</td>\n",
       "    </tr>\n",
       "    <tr>\n",
       "      <th>4</th>\n",
       "      <td>2460232</td>\n",
       "    </tr>\n",
       "    <tr>\n",
       "      <th>5</th>\n",
       "      <td>1938584</td>\n",
       "    </tr>\n",
       "  </tbody>\n",
       "</table>\n",
       "</div>"
      ],
      "text/plain": [
       "         ItemId\n",
       "Rating         \n",
       "-1      1447871\n",
       " 1        89091\n",
       " 2       245356\n",
       " 3      1420150\n",
       " 4      2460232\n",
       " 5      1938584"
      ]
     },
     "execution_count": 12,
     "metadata": {},
     "output_type": "execute_result"
    }
   ],
   "source": [
    "data_pd.groupby('Rating').agg({'ItemId':'count'}) # rating counts"
   ]
  },
  {
   "cell_type": "code",
   "execution_count": 13,
   "metadata": {},
   "outputs": [
    {
     "data": {
      "text/html": [
       "<div>\n",
       "<style scoped>\n",
       "    .dataframe tbody tr th:only-of-type {\n",
       "        vertical-align: middle;\n",
       "    }\n",
       "\n",
       "    .dataframe tbody tr th {\n",
       "        vertical-align: top;\n",
       "    }\n",
       "\n",
       "    .dataframe thead th {\n",
       "        text-align: right;\n",
       "    }\n",
       "</style>\n",
       "<table border=\"1\" class=\"dataframe\">\n",
       "  <thead>\n",
       "    <tr style=\"text-align: right;\">\n",
       "      <th></th>\n",
       "      <th>UserId</th>\n",
       "      <th>ItemId</th>\n",
       "      <th>Rating</th>\n",
       "      <th>Timestamp</th>\n",
       "      <th>date</th>\n",
       "      <th>year</th>\n",
       "    </tr>\n",
       "  </thead>\n",
       "  <tbody>\n",
       "    <tr>\n",
       "      <th>0</th>\n",
       "      <td>630154</td>\n",
       "      <td>383</td>\n",
       "      <td>5</td>\n",
       "      <td>1.262880e+09</td>\n",
       "      <td>2010-01-07 16:00:00</td>\n",
       "      <td>2010</td>\n",
       "    </tr>\n",
       "    <tr>\n",
       "      <th>1</th>\n",
       "      <td>630154</td>\n",
       "      <td>384</td>\n",
       "      <td>5</td>\n",
       "      <td>1.274026e+09</td>\n",
       "      <td>2010-05-16 16:00:00</td>\n",
       "      <td>2010</td>\n",
       "    </tr>\n",
       "    <tr>\n",
       "      <th>2</th>\n",
       "      <td>630154</td>\n",
       "      <td>385</td>\n",
       "      <td>4</td>\n",
       "      <td>1.274026e+09</td>\n",
       "      <td>2010-05-16 16:00:00</td>\n",
       "      <td>2010</td>\n",
       "    </tr>\n",
       "    <tr>\n",
       "      <th>3</th>\n",
       "      <td>630154</td>\n",
       "      <td>386</td>\n",
       "      <td>3</td>\n",
       "      <td>1.274026e+09</td>\n",
       "      <td>2010-05-16 16:00:00</td>\n",
       "      <td>2010</td>\n",
       "    </tr>\n",
       "    <tr>\n",
       "      <th>4</th>\n",
       "      <td>630154</td>\n",
       "      <td>387</td>\n",
       "      <td>3</td>\n",
       "      <td>1.274026e+09</td>\n",
       "      <td>2010-05-16 16:00:00</td>\n",
       "      <td>2010</td>\n",
       "    </tr>\n",
       "    <tr>\n",
       "      <th>...</th>\n",
       "      <td>...</td>\n",
       "      <td>...</td>\n",
       "      <td>...</td>\n",
       "      <td>...</td>\n",
       "      <td>...</td>\n",
       "      <td>...</td>\n",
       "    </tr>\n",
       "    <tr>\n",
       "      <th>7601279</th>\n",
       "      <td>595933</td>\n",
       "      <td>75127</td>\n",
       "      <td>1</td>\n",
       "      <td>1.460909e+09</td>\n",
       "      <td>2016-04-17 16:00:00</td>\n",
       "      <td>2016</td>\n",
       "    </tr>\n",
       "    <tr>\n",
       "      <th>7601280</th>\n",
       "      <td>595933</td>\n",
       "      <td>2020</td>\n",
       "      <td>5</td>\n",
       "      <td>1.469549e+09</td>\n",
       "      <td>2016-07-26 16:00:00</td>\n",
       "      <td>2016</td>\n",
       "    </tr>\n",
       "    <tr>\n",
       "      <th>7601281</th>\n",
       "      <td>595933</td>\n",
       "      <td>1073</td>\n",
       "      <td>5</td>\n",
       "      <td>1.471277e+09</td>\n",
       "      <td>2016-08-15 16:00:00</td>\n",
       "      <td>2016</td>\n",
       "    </tr>\n",
       "    <tr>\n",
       "      <th>7601282</th>\n",
       "      <td>595933</td>\n",
       "      <td>1135</td>\n",
       "      <td>5</td>\n",
       "      <td>1.487347e+09</td>\n",
       "      <td>2017-02-17 16:00:00</td>\n",
       "      <td>2017</td>\n",
       "    </tr>\n",
       "    <tr>\n",
       "      <th>7601283</th>\n",
       "      <td>264026</td>\n",
       "      <td>1124</td>\n",
       "      <td>5</td>\n",
       "      <td>1.475683e+09</td>\n",
       "      <td>2016-10-05 16:00:00</td>\n",
       "      <td>2016</td>\n",
       "    </tr>\n",
       "  </tbody>\n",
       "</table>\n",
       "<p>7601284 rows × 6 columns</p>\n",
       "</div>"
      ],
      "text/plain": [
       "         UserId  ItemId  Rating     Timestamp                date  year\n",
       "0        630154     383       5  1.262880e+09 2010-01-07 16:00:00  2010\n",
       "1        630154     384       5  1.274026e+09 2010-05-16 16:00:00  2010\n",
       "2        630154     385       4  1.274026e+09 2010-05-16 16:00:00  2010\n",
       "3        630154     386       3  1.274026e+09 2010-05-16 16:00:00  2010\n",
       "4        630154     387       3  1.274026e+09 2010-05-16 16:00:00  2010\n",
       "...         ...     ...     ...           ...                 ...   ...\n",
       "7601279  595933   75127       1  1.460909e+09 2016-04-17 16:00:00  2016\n",
       "7601280  595933    2020       5  1.469549e+09 2016-07-26 16:00:00  2016\n",
       "7601281  595933    1073       5  1.471277e+09 2016-08-15 16:00:00  2016\n",
       "7601282  595933    1135       5  1.487347e+09 2017-02-17 16:00:00  2017\n",
       "7601283  264026    1124       5  1.475683e+09 2016-10-05 16:00:00  2016\n",
       "\n",
       "[7601284 rows x 6 columns]"
      ]
     },
     "execution_count": 13,
     "metadata": {},
     "output_type": "execute_result"
    }
   ],
   "source": [
    "data_pd"
   ]
  },
  {
   "cell_type": "code",
   "execution_count": 14,
   "metadata": {
    "pycharm": {
     "name": "#%%\n"
    }
   },
   "outputs": [],
   "source": [
    "def filter_g_k_one(data,k=10,u_name='user_id',i_name='business_id',y_name='stars'):\n",
    "    '''\n",
    "    Filter users and items that have greater than k=10 appearance\n",
    "    '''\n",
    "    item_group = data.groupby(i_name).agg({y_name:'count'})\n",
    "    item_g10 = item_group[item_group[y_name]>=k].index\n",
    "    data_new = data[data[i_name].isin(item_g10)]\n",
    "    user_group = data_new.groupby(u_name).agg({y_name:'count'})\n",
    "    user_g10 = user_group[user_group[y_name]>=k].index\n",
    "    data_new = data_new[data_new[u_name].isin(user_g10)]\n",
    "    return data_new\n",
    "\n",
    "def filter_tot(data,k=10,u_name='user_id',i_name='business_id',y_name='stars'):\n",
    "    '''\n",
    "    The function tests filter_g_k_one to make sure the filtered data set has greater-than-k users and items \n",
    "    appearance. Since when we filter user_g10 after the item filter, we may delete some users from the data set and so \n",
    "    delete some item frequencies at the same time. \n",
    "    '''\n",
    "    data_new=data\n",
    "    while True:\n",
    "        data_new = filter_g_k_one(data_new,k=k,u_name=u_name,i_name=i_name,y_name=y_name)\n",
    "        m1 = data_new.groupby(i_name).agg({y_name:'count'})\n",
    "        m2 = data_new.groupby(u_name).agg({y_name:'count'})\n",
    "        num1 = m1[y_name].min()\n",
    "        num2 = m2[y_name].min()\n",
    "        print('item min:',num1,'user min:',num2)\n",
    "        if num1>=k and num2>=k:\n",
    "            break\n",
    "    return data_new"
   ]
  },
  {
   "cell_type": "code",
   "execution_count": 15,
   "metadata": {
    "pycharm": {
     "name": "#%%\n"
    }
   },
   "outputs": [
    {
     "name": "stdout",
     "output_type": "stream",
     "text": [
      "item min: 5 user min: 10\n",
      "item min: 10 user min: 10\n"
     ]
    },
    {
     "data": {
      "text/plain": [
       "(7363764, 6)"
      ]
     },
     "execution_count": 15,
     "metadata": {},
     "output_type": "execute_result"
    }
   ],
   "source": [
    "data = filter_tot(data_pd,k=10,u_name='UserId',i_name='ItemId',y_name='Rating')\n",
    "data.shape"
   ]
  },
  {
   "cell_type": "code",
   "execution_count": 16,
   "metadata": {
    "pycharm": {
     "name": "#%%\n"
    }
   },
   "outputs": [
    {
     "data": {
      "text/plain": [
       "(48729,)"
      ]
     },
     "execution_count": 16,
     "metadata": {},
     "output_type": "execute_result"
    }
   ],
   "source": [
    "data['UserId'].unique().shape"
   ]
  },
  {
   "cell_type": "code",
   "execution_count": 17,
   "metadata": {
    "pycharm": {
     "name": "#%%\n"
    }
   },
   "outputs": [
    {
     "data": {
      "text/plain": [
       "(26767,)"
      ]
     },
     "execution_count": 17,
     "metadata": {},
     "output_type": "execute_result"
    }
   ],
   "source": [
    "data['ItemId'].unique().shape\n"
   ]
  },
  {
   "cell_type": "code",
   "execution_count": 18,
   "metadata": {
    "pycharm": {
     "name": "#%%\n"
    }
   },
   "outputs": [
    {
     "name": "stderr",
     "output_type": "stream",
     "text": [
      "/tmp/ipykernel_160/1052046889.py:6: DeprecationWarning: `np.int` is a deprecated alias for the builtin `int`. To silence this warning, use `int` by itself. Doing this will not modify any behavior and is safe. When replacing `np.int`, you may wish to use e.g. `np.int64` or `np.int32` to specify the precision. If you wish to review your current use, check the release note link for additional information.\n",
      "Deprecated in NumPy 1.20; for more details and guidance: https://numpy.org/devdocs/release/1.20.0-notes.html#deprecations\n",
      "  data['time_slot'] = data[['time_slot']].astype(np.int)\n"
     ]
    }
   ],
   "source": [
    "# split timestamp into 10 bins (time stages)\n",
    "time_min = data['Timestamp'].min()\n",
    "time_max = data['Timestamp'].max()\n",
    "slot_gap = (time_max - time_min) /10\n",
    "data['time_slot'] = data[\"Timestamp\"].apply(lambda x: int(min(int((x-time_min))//slot_gap,9)))\n",
    "data['time_slot'] = data[['time_slot']].astype(np.int)"
   ]
  },
  {
   "cell_type": "code",
   "execution_count": 19,
   "metadata": {
    "pycharm": {
     "name": "#%%\n"
    }
   },
   "outputs": [
    {
     "data": {
      "text/plain": [
       "'2010-09-21 13:48:00'"
      ]
     },
     "execution_count": 19,
     "metadata": {},
     "output_type": "execute_result"
    }
   ],
   "source": [
    "timestamp = time_min + slot_gap\n",
    "import time\n",
    "\n",
    "#convert to localtime\n",
    "time_local = time.localtime(timestamp)\n",
    "dt = time.strftime(\"%Y-%m-%d %H:%M:%S\",time_local)\n",
    "dt"
   ]
  },
  {
   "cell_type": "code",
   "execution_count": 20,
   "metadata": {
    "pycharm": {
     "name": "#%%\n"
    }
   },
   "outputs": [
    {
     "data": {
      "text/html": [
       "<div>\n",
       "<style scoped>\n",
       "    .dataframe tbody tr th:only-of-type {\n",
       "        vertical-align: middle;\n",
       "    }\n",
       "\n",
       "    .dataframe tbody tr th {\n",
       "        vertical-align: top;\n",
       "    }\n",
       "\n",
       "    .dataframe thead th {\n",
       "        text-align: right;\n",
       "    }\n",
       "</style>\n",
       "<table border=\"1\" class=\"dataframe\">\n",
       "  <thead>\n",
       "    <tr style=\"text-align: right;\">\n",
       "      <th></th>\n",
       "      <th>UserId</th>\n",
       "      <th>ItemId</th>\n",
       "      <th>Rating</th>\n",
       "      <th>Timestamp</th>\n",
       "      <th>date</th>\n",
       "      <th>year</th>\n",
       "      <th>time_slot</th>\n",
       "    </tr>\n",
       "  </thead>\n",
       "  <tbody>\n",
       "    <tr>\n",
       "      <th>0</th>\n",
       "      <td>630154</td>\n",
       "      <td>383</td>\n",
       "      <td>5</td>\n",
       "      <td>1.262880e+09</td>\n",
       "      <td>2010-01-07 16:00:00</td>\n",
       "      <td>2010</td>\n",
       "      <td>0</td>\n",
       "    </tr>\n",
       "    <tr>\n",
       "      <th>1</th>\n",
       "      <td>630154</td>\n",
       "      <td>384</td>\n",
       "      <td>5</td>\n",
       "      <td>1.274026e+09</td>\n",
       "      <td>2010-05-16 16:00:00</td>\n",
       "      <td>2010</td>\n",
       "      <td>0</td>\n",
       "    </tr>\n",
       "    <tr>\n",
       "      <th>2</th>\n",
       "      <td>630154</td>\n",
       "      <td>385</td>\n",
       "      <td>4</td>\n",
       "      <td>1.274026e+09</td>\n",
       "      <td>2010-05-16 16:00:00</td>\n",
       "      <td>2010</td>\n",
       "      <td>0</td>\n",
       "    </tr>\n",
       "    <tr>\n",
       "      <th>3</th>\n",
       "      <td>630154</td>\n",
       "      <td>386</td>\n",
       "      <td>3</td>\n",
       "      <td>1.274026e+09</td>\n",
       "      <td>2010-05-16 16:00:00</td>\n",
       "      <td>2010</td>\n",
       "      <td>0</td>\n",
       "    </tr>\n",
       "  </tbody>\n",
       "</table>\n",
       "</div>"
      ],
      "text/plain": [
       "   UserId  ItemId  Rating     Timestamp                date  year  time_slot\n",
       "0  630154     383       5  1.262880e+09 2010-01-07 16:00:00  2010          0\n",
       "1  630154     384       5  1.274026e+09 2010-05-16 16:00:00  2010          0\n",
       "2  630154     385       4  1.274026e+09 2010-05-16 16:00:00  2010          0\n",
       "3  630154     386       3  1.274026e+09 2010-05-16 16:00:00  2010          0"
      ]
     },
     "execution_count": 20,
     "metadata": {},
     "output_type": "execute_result"
    }
   ],
   "source": [
    "data.head(4)"
   ]
  },
  {
   "cell_type": "code",
   "execution_count": 21,
   "metadata": {
    "pycharm": {
     "name": "#%%\n"
    }
   },
   "outputs": [
    {
     "name": "stdout",
     "output_type": "stream",
     "text": [
      "train: 6625965 test: 737799\n"
     ]
    }
   ],
   "source": [
    "# Use first 8 bins as train slots, and the 9th bin as test slot\n",
    "train_slots = [0 ,1, 2, 3, 4, 5, 6,7,8]\n",
    "test_slots = [9]\n",
    "data_train = data[data['time_slot'].isin(train_slots)]\n",
    "data_test = data[data['time_slot'].isin(test_slots)]\n",
    "print(\"train:\",data_train.shape[0],'test:',data_test.shape[0])"
   ]
  },
  {
   "cell_type": "code",
   "execution_count": 22,
   "metadata": {
    "pycharm": {
     "name": "#%%\n"
    }
   },
   "outputs": [
    {
     "name": "stdout",
     "output_type": "stream",
     "text": [
      "user not include in user_items_test: (681284, 7)\n",
      "train: 6625965 not-new test: 548253\n",
      "not repeat train: 6625965 not-repeat test: 548253\n"
     ]
    }
   ],
   "source": [
    "user_in_train = data_train['UserId'].unique()\n",
    "item_in_train = data_train['ItemId'].unique()\n",
    "\n",
    "# filter new user/item in train. Only keep user/item appeared in train set\n",
    "data_test = data_test[data_test['UserId'].isin(user_in_train)]\n",
    "print(\"user not include in user_items_test:\",data_test.shape)\n",
    "data_test = data_test[data_test['ItemId'].isin(item_in_train)]\n",
    "print(\"train:\",data_train.shape[0],'not-new test:',data_test.shape[0])\n",
    "\n",
    "# filter repeat (repetitive interaction)\n",
    "data_train = data_train.drop_duplicates(subset=['UserId','ItemId'],keep='first')\n",
    "data_test = data_test.drop_duplicates(subset=['UserId','ItemId'],keep='first')\n",
    "print(\"not repeat train:\",data_train.shape[0],'not-repeat test:',data_test.shape[0])"
   ]
  },
  {
   "cell_type": "code",
   "execution_count": 23,
   "metadata": {
    "pycharm": {
     "name": "#%%\n"
    }
   },
   "outputs": [
    {
     "name": "stdout",
     "output_type": "stream",
     "text": [
      "user num: (47890,)\n",
      "item num: (26047,)\n"
     ]
    },
    {
     "data": {
      "text/html": [
       "<div>\n",
       "<style scoped>\n",
       "    .dataframe tbody tr th:only-of-type {\n",
       "        vertical-align: middle;\n",
       "    }\n",
       "\n",
       "    .dataframe tbody tr th {\n",
       "        vertical-align: top;\n",
       "    }\n",
       "\n",
       "    .dataframe thead th {\n",
       "        text-align: right;\n",
       "    }\n",
       "</style>\n",
       "<table border=\"1\" class=\"dataframe\">\n",
       "  <thead>\n",
       "    <tr style=\"text-align: right;\">\n",
       "      <th></th>\n",
       "      <th>UserId</th>\n",
       "      <th>ItemId</th>\n",
       "      <th>Rating</th>\n",
       "      <th>Timestamp</th>\n",
       "      <th>date</th>\n",
       "      <th>year</th>\n",
       "      <th>time_slot</th>\n",
       "      <th>uid</th>\n",
       "      <th>iid</th>\n",
       "    </tr>\n",
       "  </thead>\n",
       "  <tbody>\n",
       "    <tr>\n",
       "      <th>157</th>\n",
       "      <td>630154</td>\n",
       "      <td>540</td>\n",
       "      <td>4</td>\n",
       "      <td>1.473782e+09</td>\n",
       "      <td>2016-09-13 16:00:00</td>\n",
       "      <td>2016</td>\n",
       "      <td>9</td>\n",
       "      <td>0</td>\n",
       "      <td>840</td>\n",
       "    </tr>\n",
       "    <tr>\n",
       "      <th>158</th>\n",
       "      <td>630154</td>\n",
       "      <td>541</td>\n",
       "      <td>5</td>\n",
       "      <td>1.481472e+09</td>\n",
       "      <td>2016-12-11 16:00:00</td>\n",
       "      <td>2016</td>\n",
       "      <td>9</td>\n",
       "      <td>0</td>\n",
       "      <td>225</td>\n",
       "    </tr>\n",
       "  </tbody>\n",
       "</table>\n",
       "</div>"
      ],
      "text/plain": [
       "     UserId  ItemId  Rating     Timestamp                date  year  \\\n",
       "157  630154     540       4  1.473782e+09 2016-09-13 16:00:00  2016   \n",
       "158  630154     541       5  1.481472e+09 2016-12-11 16:00:00  2016   \n",
       "\n",
       "     time_slot  uid  iid  \n",
       "157          9    0  840  \n",
       "158          9    0  225  "
      ]
     },
     "execution_count": 23,
     "metadata": {},
     "output_type": "execute_result"
    }
   ],
   "source": [
    "import numpy as np\n",
    "user = data_train['UserId'].unique()\n",
    "item= data_train['ItemId'].unique()\n",
    "# reindex user and item\n",
    "user_to_id = dict(zip(list(user),list(np.arange(user.shape[0]))))\n",
    "item_to_id = dict(zip(list(item),list(range(item.shape[0]))))\n",
    "print(\"user num:\",user.shape)\n",
    "print(\"item num:\", item.shape)\n",
    "# map to the data sets\n",
    "data_train['uid'] = data_train['UserId'].map(user_to_id)\n",
    "data_train['iid'] = data_train['ItemId'].map(item_to_id)\n",
    "\n",
    "data_test['uid'] = data_test['UserId'].map(user_to_id)\n",
    "data_test['iid'] = data_test['ItemId'].map(item_to_id)\n",
    "\n",
    "data_test.head(2)"
   ]
  },
  {
   "cell_type": "markdown",
   "metadata": {},
   "source": [
    "\n",
    "# continue"
   ]
  },
  {
   "cell_type": "code",
   "execution_count": 24,
   "metadata": {
    "pycharm": {
     "name": "#%%\n"
    }
   },
   "outputs": [
    {
     "data": {
      "text/html": [
       "<div>\n",
       "<style scoped>\n",
       "    .dataframe tbody tr th:only-of-type {\n",
       "        vertical-align: middle;\n",
       "    }\n",
       "\n",
       "    .dataframe tbody tr th {\n",
       "        vertical-align: top;\n",
       "    }\n",
       "\n",
       "    .dataframe thead th {\n",
       "        text-align: right;\n",
       "    }\n",
       "</style>\n",
       "<table border=\"1\" class=\"dataframe\">\n",
       "  <thead>\n",
       "    <tr style=\"text-align: right;\">\n",
       "      <th></th>\n",
       "      <th>uid</th>\n",
       "      <th>iid</th>\n",
       "      <th>time_slot</th>\n",
       "      <th>click</th>\n",
       "    </tr>\n",
       "  </thead>\n",
       "  <tbody>\n",
       "    <tr>\n",
       "      <th>157</th>\n",
       "      <td>0</td>\n",
       "      <td>840</td>\n",
       "      <td>9</td>\n",
       "      <td>4</td>\n",
       "    </tr>\n",
       "    <tr>\n",
       "      <th>158</th>\n",
       "      <td>0</td>\n",
       "      <td>225</td>\n",
       "      <td>9</td>\n",
       "      <td>5</td>\n",
       "    </tr>\n",
       "  </tbody>\n",
       "</table>\n",
       "</div>"
      ],
      "text/plain": [
       "     uid  iid  time_slot  click\n",
       "157    0  840          9      4\n",
       "158    0  225          9      5"
      ]
     },
     "execution_count": 24,
     "metadata": {},
     "output_type": "execute_result"
    }
   ],
   "source": [
    "data_train = data_train[['uid','iid','time_slot','Rating']]\n",
    "data_test = data_test[['uid','iid','time_slot','Rating']]\n",
    "#\n",
    "columns = ['uid','iid','time_slot','click']\n",
    "data_train.columns = columns\n",
    "data_test.columns = columns\n",
    "data_test.head(2)"
   ]
  },
  {
   "cell_type": "code",
   "execution_count": 25,
   "metadata": {
    "pycharm": {
     "name": "#%%\n"
    }
   },
   "outputs": [],
   "source": [
    "# split testing and valuation"
   ]
  },
  {
   "cell_type": "code",
   "execution_count": 26,
   "metadata": {
    "pycharm": {
     "name": "#%%\n"
    }
   },
   "outputs": [
    {
     "name": "stdout",
     "output_type": "stream",
     "text": [
      "tot user in the last stage: 22821 real test user: 15974 real valid user: 6847\n"
     ]
    }
   ],
   "source": [
    "test_unique_user = data_test['uid'].unique()\n",
    "N_ = test_unique_user.shape[0]\n",
    "np.random.seed(2020)\n",
    "np.random.shuffle(test_unique_user)\n",
    "split_idx  = int(N_*0.7)\n",
    "test_real_user = test_unique_user[:split_idx]\n",
    "valid_real_user = test_unique_user[split_idx:]\n",
    "print(\"tot user in the last stage:\",N_,\"real test user:\",test_real_user.shape[0],\"real valid user:\",valid_real_user.shape[0])"
   ]
  },
  {
   "cell_type": "code",
   "execution_count": 27,
   "metadata": {
    "pycharm": {
     "name": "#%%\n"
    }
   },
   "outputs": [
    {
     "name": "stdout",
     "output_type": "stream",
     "text": [
      "tot itr: (548253, 4) real test: (379537, 4) real valid: (168716, 4)\n"
     ]
    }
   ],
   "source": [
    "data_real_test = data_test[data_test['uid'].isin(test_real_user)]\n",
    "data_real_valid = data_test[data_test['uid'].isin(valid_real_user)]\n",
    "print(\"tot itr:\",data_test.shape,\"real test:\",data_real_test.shape,\"real valid:\",data_real_valid.shape)"
   ]
  },
  {
   "cell_type": "markdown",
   "metadata": {},
   "source": [
    "# saving"
   ]
  },
  {
   "cell_type": "code",
   "execution_count": 41,
   "metadata": {
    "pycharm": {
     "name": "#%%\n"
    }
   },
   "outputs": [
    {
     "name": "stdout",
     "output_type": "stream",
     "text": [
      "   uid    iid  time_slot  click\n",
      "0    3  16495          9      4\n",
      "1    3  25976          9      3\n",
      "(379537, 2)\n"
     ]
    }
   ],
   "source": [
    "import os\n",
    "path_folder = \"./douban_moive/\"\n",
    "if not os.path.exists(path_folder):\n",
    "    os.mkdir(path_folder)\n",
    "user_items_test = data_real_test.sort_values(by='uid',ignore_index=True)\n",
    "print(user_items_test.head(2))\n",
    "test_itr = user_items_test.values[:,0:2]\n",
    "print(test_itr.shape)\n",
    "# write uid and list of iid that u interacts with\n",
    "with open('./douban_moive/test_real.txt','w') as f:\n",
    "    u_pre = test_itr[0,0]\n",
    "    k = 0\n",
    "    for x in test_itr:\n",
    "        u = x[0]\n",
    "        i = x[1]\n",
    "        if u !=u_pre or k==0:\n",
    "            u_pre = u\n",
    "            if k>0:\n",
    "                f.write('\\n')\n",
    "            f.write(str(u))\n",
    "            k = 1\n",
    "        f.write(' '+str(i))"
   ]
  },
  {
   "cell_type": "code",
   "execution_count": 42,
   "metadata": {
    "pycharm": {
     "name": "#%%\n"
    }
   },
   "outputs": [
    {
     "name": "stdout",
     "output_type": "stream",
     "text": [
      "   uid  iid  time_slot  click\n",
      "0    0  840          9      4\n",
      "1    0  225          9      5\n",
      "(168716, 2)\n"
     ]
    }
   ],
   "source": [
    "user_items_test = data_real_valid.sort_values(by='uid',ignore_index=True)\n",
    "print(user_items_test.head(2))\n",
    "test_itr = user_items_test.values[:,0:2]\n",
    "print(test_itr.shape)\n",
    "with open('./douban_moive/valid_real.txt','w') as f:\n",
    "    u_pre = test_itr[0,0]\n",
    "    k = 0\n",
    "    for x in test_itr:\n",
    "        u = x[0]\n",
    "        i = x[1]\n",
    "        if u !=u_pre or k==0:\n",
    "            u_pre = u\n",
    "            if k>0:\n",
    "                f.write('\\n')\n",
    "            f.write(str(u))\n",
    "            k = 1\n",
    "        f.write(' '+str(i))"
   ]
  },
  {
   "cell_type": "code",
   "execution_count": null,
   "metadata": {
    "pycharm": {
     "name": "#%%\n"
    }
   },
   "outputs": [],
   "source": []
  },
  {
   "cell_type": "code",
   "execution_count": 43,
   "metadata": {
    "pycharm": {
     "name": "#%%\n"
    }
   },
   "outputs": [
    {
     "name": "stdout",
     "output_type": "stream",
     "text": [
      "   uid  iid  time_slot  click\n",
      "0    0    0          0      5\n",
      "1    0  100          5      5\n",
      "(6625965, 2)\n"
     ]
    }
   ],
   "source": [
    "user_items_test = data_train.sort_values(by='uid',ignore_index=True)\n",
    "print(user_items_test.head(2))\n",
    "test_itr = user_items_test.values[:,0:2]\n",
    "print(test_itr.shape)\n",
    "with open('./douban_moive/train.txt','w') as f:\n",
    "    u_pre = test_itr[0,0]\n",
    "    k = 0\n",
    "    for x in test_itr:\n",
    "        u = x[0]\n",
    "        i = x[1]\n",
    "        if u !=u_pre or k==0:\n",
    "            u_pre = u\n",
    "            if k>0:\n",
    "                f.write('\\n')\n",
    "            f.write(str(u))\n",
    "            k = 1\n",
    "        f.write(' '+str(i))"
   ]
  },
  {
   "cell_type": "code",
   "execution_count": null,
   "metadata": {
    "pycharm": {
     "name": "#%%\n"
    }
   },
   "outputs": [],
   "source": []
  },
  {
   "cell_type": "code",
   "execution_count": 44,
   "metadata": {
    "pycharm": {
     "name": "#%%\n"
    }
   },
   "outputs": [],
   "source": [
    "data_train.to_csv(\"./douban_moive/train_with_time.txt\",index=False,header=False,sep=' ')"
   ]
  },
  {
   "cell_type": "code",
   "execution_count": 45,
   "metadata": {
    "pycharm": {
     "name": "#%%\n"
    }
   },
   "outputs": [],
   "source": [
    "data_real_valid.to_csv(\"./douban_moive/valid_with_time.txt\",index=False,header=False,sep=' ')\n",
    "data_real_test.to_csv(\"./douban_moive/test_with_time.txt\",index=False,header=False,sep=' ')"
   ]
  },
  {
   "cell_type": "code",
   "execution_count": null,
   "metadata": {
    "pycharm": {
     "name": "#%%\n"
    }
   },
   "outputs": [],
   "source": [
    "data_train['iid'].max()\n"
   ]
  },
  {
   "cell_type": "code",
   "execution_count": 28,
   "metadata": {
    "pycharm": {
     "name": "#%%\n"
    }
   },
   "outputs": [
    {
     "name": "stdout",
     "output_type": "stream",
     "text": [
      "    uid  iid  time_slot  click\n",
      "0     0    0          0      5\n",
      "1  9824    0          0     -1\n",
      "   iid   uid\n",
      "0    0     0\n",
      "1    0  9824\n",
      "(973800, 4)\n",
      "     uid  iid  time_slot  click\n",
      "0  25851    0          1     -1\n",
      "1   8166    0          1      3\n",
      "   iid    uid\n",
      "0    0  25851\n",
      "1    0   8166\n",
      "(795705, 4)\n",
      "     uid  iid  time_slot  click\n",
      "0  12675    0          2      5\n",
      "1  33222    0          2     -1\n",
      "   iid    uid\n",
      "0    0  12675\n",
      "1    0  33222\n",
      "(705637, 4)\n",
      "     uid  iid  time_slot  click\n",
      "0   7517    0          3      4\n",
      "1  12320    0          3      4\n",
      "   iid    uid\n",
      "0    0   7517\n",
      "1    0  12320\n",
      "(636706, 4)\n",
      "     uid  iid  time_slot  click\n",
      "0  36421    0          4     -1\n",
      "1  10946    0          4      3\n",
      "   iid    uid\n",
      "0    0  36421\n",
      "1    0  10946\n",
      "(631387, 4)\n",
      "     uid  iid  time_slot  click\n",
      "0  36789    0          5      4\n",
      "1  16292    0          5      3\n",
      "   iid    uid\n",
      "0    0  36789\n",
      "1    0  16292\n",
      "(524913, 4)\n",
      "     uid  iid  time_slot  click\n",
      "0  36607    0          6     -1\n",
      "1  39181    0          6     -1\n",
      "   iid    uid\n",
      "0    0  36607\n",
      "1    0  39181\n",
      "(733527, 4)\n",
      "     uid  iid  time_slot  click\n",
      "0  30970    0          7     -1\n",
      "1  41167    0          7      2\n",
      "   iid    uid\n",
      "0    0  30970\n",
      "1    0  41167\n",
      "(838223, 4)\n",
      "     uid  iid  time_slot  click\n",
      "0  32637    0          8      5\n",
      "1  42696    0          8      3\n",
      "   iid    uid\n",
      "0    0  32637\n",
      "1    0  42696\n",
      "(786067, 4)\n"
     ]
    }
   ],
   "source": [
    "for slot_id in train_slots:\n",
    "    slot_data = data_train[data_train['time_slot'].isin([slot_id])]\n",
    "    slot_data  = slot_data.sort_values(by=['iid'],ignore_index=True)\n",
    "    slot_data_np = slot_data[['iid','uid']].values[:,0:2]\n",
    "    print(slot_data.head(2))\n",
    "    print(slot_data[['iid','uid']].head(2))\n",
    "    print(slot_data.shape)\n",
    "    with open(\"./douban_moive/t_\"+str(slot_id)+\".txt\",'w') as f:\n",
    "        i_pre = slot_data_np[0,0]\n",
    "        k = 0\n",
    "        for x in slot_data_np:\n",
    "            i_ = x[0]\n",
    "            u_ = x[1]\n",
    "            if i_ != i_pre or k == 0:\n",
    "                i_pre = i_\n",
    "                if k>0:\n",
    "                    f.write('\\n')\n",
    "                f.write(str(i_))\n",
    "                k = 1\n",
    "            f.write(\" \" + str(u_))"
   ]
  },
  {
   "cell_type": "code",
   "execution_count": null,
   "metadata": {
    "pycharm": {
     "name": "#%%\n"
    }
   },
   "outputs": [],
   "source": []
  },
  {
   "cell_type": "code",
   "execution_count": 29,
   "metadata": {
    "pycharm": {
     "name": "#%%\n"
    }
   },
   "outputs": [
    {
     "name": "stdout",
     "output_type": "stream",
     "text": [
      "     uid  iid  time_slot  click\n",
      "0  37572    0          9      5\n",
      "1  38896    0          9      5\n",
      "   iid    uid\n",
      "0    0  37572\n",
      "1    0  38896\n",
      "(548253, 4)\n"
     ]
    }
   ],
   "source": [
    "slot_data = data_test\n",
    "slot_data  = slot_data.sort_values(by=['iid'],ignore_index=True)\n",
    "slot_data_np = slot_data[['iid','uid']].values[:,0:2]\n",
    "print(slot_data.head(2))\n",
    "print(slot_data[['iid','uid']].head(2))\n",
    "print(slot_data.shape)\n",
    "with open(\"./douban_moive/t_\"+str(9)+\".txt\",'w') as f:\n",
    "    i_pre = slot_data_np[0,0]\n",
    "    k = 0\n",
    "    for x in slot_data_np:\n",
    "        i_ = x[0]\n",
    "        u_ = x[1]\n",
    "        if i_ != i_pre or k == 0:\n",
    "            i_pre = i_\n",
    "            if k>0:\n",
    "                f.write('\\n')\n",
    "            f.write(str(i_))\n",
    "            k = 1\n",
    "        f.write(\" \" + str(u_))\n"
   ]
  },
  {
   "cell_type": "markdown",
   "metadata": {},
   "source": []
  }
 ],
 "metadata": {
  "kernelspec": {
   "display_name": "Python 3 (ipykernel)",
   "language": "python",
   "name": "python3"
  },
  "language_info": {
   "codemirror_mode": {
    "name": "ipython",
    "version": 3
   },
   "file_extension": ".py",
   "mimetype": "text/x-python",
   "name": "python",
   "nbconvert_exporter": "python",
   "pygments_lexer": "ipython3",
   "version": "3.9.5"
  }
 },
 "nbformat": 4,
 "nbformat_minor": 1
}
